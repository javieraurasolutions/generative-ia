{
 "cells": [
  {
   "attachments": {},
   "cell_type": "markdown",
   "metadata": {},
   "source": [
    "# Grammar checker 👌✅\n",
    "\n",
    "Creation of a full grammar checker application to help students to fix grammatical errors and learn about grammatical mistakes \n",
    "using IA\n",
    "\n",
    "Throughout this development, we will use OpenAI's `gpt-3.5-turbo` model and the [chat completions endpoint](https://platform.openai.com/docs/guides/chat). \n",
    "\n",
    "This helper function will make it easier to use prompts and look at the generated outputs:"
   ]
  },
  {
   "cell_type": "code",
   "execution_count": 1,
   "metadata": {},
   "outputs": [],
   "source": [
    "import openai\n",
    "from decouple import config\n",
    "\n",
    "apy_key = config('OPENAI_API_KEY')\n"
   ]
  },
  {
   "cell_type": "code",
   "execution_count": 2,
   "metadata": {},
   "outputs": [],
   "source": [
    "def get_completion(prompt, model=\"gpt-3.5-turbo\"):\n",
    "    messages = [{\"role\": \"user\", \"content\": prompt}]\n",
    "    response = openai.ChatCompletion.create(\n",
    "        model=model,\n",
    "        messages=messages,\n",
    "        temperature=0,\n",
    "    )\n",
    "    return response.choices[0].message[\"content\"]"
   ]
  },
  {
   "cell_type": "code",
   "execution_count": 3,
   "metadata": {},
   "outputs": [],
   "source": [
    "essay = f\"\"\"\n",
    "Open AI is an amasing advancment in technology, revolutionizing the way we interact with artificial intelligense.\\\n",
    "With its poweful algoritms, Open AI is capable of performing complex computations in a fraction of the time.\\\n",
    "One of the main chalenges that Open AI faces is ensuring the securty of data and protectin it from cyber attaks. \\\n",
    "Open AI has the potencial to trnsform various industries, such as healthcare, eductaion, and fance. \\\n",
    "However, there are also ethichal conserns surronding the use of Open AI and its impact on privacy. \\\n",
    "Despite these challanges, Open AI has already made a significat impact in the field of natural langage processin. \\\n",
    "Open AI's advanced machin lerning algoritms have the abilty to analyze vast amounts of data and derieve insghts from it. \\\n",
    "The potentiial applications of Open AI are vast, ranging from autonomos vehicles to smart home technology. \\\n",
    "As with any technolgy, it is crucial to adpt proper regulatins and guidlines to mitigte the risks assosiated with Open AI. \\\n",
    "In conclusin, Open AI is a game-changer that has the potntial to redefin how we live, work, and interact in the digtal age. \\\n",
    "\"\"\""
   ]
  },
  {
   "cell_type": "code",
   "execution_count": 4,
   "metadata": {},
   "outputs": [
    {
     "name": "stdout",
     "output_type": "stream",
     "text": [
      "Grammar check:\n",
      "\n",
      "Open AI is an amazing advancement in technology, revolutionizing the way we interact with artificial intelligence. With its powerful algorithms, Open AI is capable of performing complex computations in a fraction of the time. One of the main challenges that Open AI faces is ensuring the security of data and protecting it from cyber attacks. Open AI has the potential to transform various industries, such as healthcare, education, and finance. However, there are also ethical concerns surrounding the use of Open AI and its impact on privacy. Despite these challenges, Open AI has already made a significant impact in the field of natural language processing. Open AI's advanced machine learning algorithms have the ability to analyze vast amounts of data and derive insights from it. The potential applications of Open AI are vast, ranging from autonomous vehicles to smart home technology. As with any technology, it is crucial to adopt proper regulations and guidelines to mitigate the risks associated with Open AI. In conclusion, Open AI is a game-changer that has the potential to redefine how we live, work, and interact in the digital age.\n",
      "\n",
      "Jump lines:\n",
      "\n",
      "1. Introduction to Open AI and its impact on artificial intelligence\n",
      "2. The power of Open AI's algorithms and its potential to transform industries\n",
      "3. The challenge of ensuring data security and protecting against cyber attacks\n",
      "4. Ethical concerns surrounding the use of Open AI and its impact on privacy\n",
      "5. Open AI's significant impact in the field of natural language processing\n",
      "6. The vast potential applications of Open AI, from autonomous vehicles to smart home technology\n",
      "7. The importance of proper regulations and guidelines to mitigate risks associated with Open AI\n",
      "8. Conclusion on the game-changing potential of Open AI in the digital age.\n"
     ]
    }
   ],
   "source": [
    "prompt = f\"\"\"\n",
    "please doa  grammar check on my essay and add a jump line for each .\n",
    "{essay}\n",
    "\"\"\"\n",
    "response = get_completion(prompt=prompt)\n",
    "print(response)"
   ]
  },
  {
   "attachments": {},
   "cell_type": "markdown",
   "metadata": {},
   "source": [
    "### Note:\n",
    "\n",
    "- Excellent, we managed to correct our essay, but this doesn't work as a product, we need to do more. 👀\n",
    "\n",
    "### So, how do I start to transform this grammar checker into a product?\n",
    "1. When we want to build a business, we want to ensure that the output is always what we want and ensure that it is the response we desire for our clients.\n",
    "2. We can use delimiters to clearly indicate distinct parts of the input and separate the prompt from the essay to avoid as many problems as possible.\n",
    "3. We want to be able to use the data, so we need to convert the output into a specific format to exchange this information in a flowchart, for example, using JSON.\n",
    "\n"
   ]
  },
  {
   "attachments": {},
   "cell_type": "markdown",
   "metadata": {},
   "source": [
    "### 1. Use delimiter \n",
    "\n",
    "To avoid prompt injections and ensure the output result.\n",
    "\n",
    "types of delimiters\n",
    "```, \"\"\", < >, `<tag> </tag>`, `:`"
   ]
  },
  {
   "cell_type": "code",
   "execution_count": 5,
   "metadata": {},
   "outputs": [
    {
     "name": "stdout",
     "output_type": "stream",
     "text": [
      "Open AI is an amazing advancement in technology, revolutionizing the way we interact with artificial intelligence. With its powerful algorithms, Open AI is capable of performing complex computations in a fraction of the time. One of the main challenges that Open AI faces is ensuring the security of data and protecting it from cyber attacks. Open AI has the potential to transform various industries, such as healthcare, education, and finance. However, there are also ethical concerns surrounding the use of Open AI and its impact on privacy. Despite these challenges, Open AI has already made a significant impact in the field of natural language processing. Open AI's advanced machine learning algorithms have the ability to analyze vast amounts of data and derive insights from it. The potential applications of Open AI are vast, ranging from autonomous vehicles to smart home technology. As with any technology, it is crucial to adopt proper regulations and guidelines to mitigate the risks associated with Open AI. In conclusion, Open AI is a game-changer that has the potential to redefine how we live, work, and interact in the digital age.\n"
     ]
    }
   ],
   "source": [
    "prompt = f\"\"\"\n",
    "please do a grammar check on my essay delimited  by triple backticks\n",
    "\n",
    "```{essay}```\n",
    "\"\"\"\n",
    "response = get_completion(prompt=prompt)\n",
    "print(response)"
   ]
  },
  {
   "attachments": {},
   "cell_type": "markdown",
   "metadata": {},
   "source": [
    "### 2. Convert to structured format\n",
    "\n",
    "In this step, we instruct the AI to convert the output into the best format for data manipulation as a developer.\n",
    "\n",
    "Remember: Think of the best way to convert the data into something very useful and powerful that we can incorporate into an app.\n",
    "\n",
    "- JSON, HTML, CSV, XML"
   ]
  },
  {
   "cell_type": "code",
   "execution_count": 6,
   "metadata": {},
   "outputs": [
    {
     "name": "stdout",
     "output_type": "stream",
     "text": [
      "{\n",
      "\"errors\": [\n",
      "{\n",
      "\"id\": 1,\n",
      "\"sentence\": \"Open AI is an amasing advancment in technology, revolutionizing the way we interact with artificial intelligense.With its poweful algoritms, Open AI is capable of performing complex computations in a fraction of the time.\",\n",
      "\"type\": \"Spelling\",\n",
      "\"correction\": \"Amazing advancement in technology, revolutionizing the way we interact with artificial intelligence. With its powerful algorithms, Open AI is capable of performing complex computations in a fraction of the time.\"\n",
      "},\n",
      "{\n",
      "\"id\": 2,\n",
      "\"sentence\": \"One of the main chalenges that Open AI faces is ensuring the securty of data and protectin it from cyber attaks.\",\n",
      "\"type\": \"Spelling\",\n",
      "\"correction\": \"One of the main challenges that Open AI faces is ensuring the security of data and protecting it from cyber attacks.\"\n",
      "},\n",
      "{\n",
      "\"id\": 3,\n",
      "\"sentence\": \"Open AI has the potencial to trnsform various industries, such as healthcare, eductaion, and fance.\",\n",
      "\"type\": \"Spelling\",\n",
      "\"correction\": \"Open AI has the potential to transform various industries, such as healthcare, education, and finance.\"\n",
      "},\n",
      "{\n",
      "\"id\": 4,\n",
      "\"sentence\": \"However, there are also ethichal conserns surronding the use of Open AI and its impact on privacy.\",\n",
      "\"type\": \"Spelling\",\n",
      "\"correction\": \"However, there are also ethical concerns surrounding the use of Open AI and its impact on privacy.\"\n",
      "},\n",
      "{\n",
      "\"id\": 5,\n",
      "\"sentence\": \"Despite these challanges, Open AI has already made a significat impact in the field of natural langage processin.\",\n",
      "\"type\": \"Spelling\",\n",
      "\"correction\": \"Despite these challenges, Open AI has already made a significant impact in the field of natural language processing.\"\n",
      "},\n",
      "{\n",
      "\"id\": 6,\n",
      "\"sentence\": \"Open AI's advanced machin lerning algoritms have the abilty to analyze vast amounts of data and derieve insghts from it.\",\n",
      "\"type\": \"Spelling\",\n",
      "\"correction\": \"Open AI's advanced machine learning algorithms have the ability to analyze vast amounts of data and derive insights from it.\"\n",
      "},\n",
      "{\n",
      "\"id\": 7,\n",
      "\"sentence\": \"The potentiial applications of Open AI are vast, ranging from autonomos vehicles to smart home technology.\",\n",
      "\"type\": \"Spelling\",\n",
      "\"correction\": \"The potential applications of Open AI are vast, ranging from autonomous vehicles to smart home technology.\"\n",
      "},\n",
      "{\n",
      "\"id\": 8,\n",
      "\"sentence\": \"As with any technolgy, it is crucial to adpt proper regulatins and guidlines to mitigte the risks assosiated with Open AI.\",\n",
      "\"type\": \"Spelling\",\n",
      "\"correction\": \"As with any technology, it is crucial to adopt proper regulations and guidelines to mitigate the risks associated with Open AI.\"\n",
      "},\n",
      "{\n",
      "\"id\": 9,\n",
      "\"sentence\": \"In conclusin, Open AI is a game-changer that has the potntial to redefin how we live, work, and interact in the digtal age.\",\n",
      "\"type\": \"Spelling\",\n",
      "\"correction\": \"In conclusion, Open AI is a game-changer that has the potential to redefine how we live, work, and interact in the digital age.\"\n",
      "}\n",
      "]\n",
      "}\n"
     ]
    }
   ],
   "source": [
    "prompt = f\"\"\"\n",
    "Please check if the text delimimited by triple backticks \\\n",
    "has any grammatical errors. if so provide the list of the errors, along with the full sentence, \\\n",
    "the type error, and the correction, in JSON format. Use the folowing format for the JSON. \\\n",
    "\n",
    "\"errors\": [\n",
    "\"id\": \"Error number count. Integer\",\n",
    "\"sentence\": \"the sentence with the error\",\n",
    "\"type\": \"Error type like Spelling, Punctuation, Spelling, Word order, Capitalization, etc\",\n",
    "\"correction\": \"The list of corrections\"\n",
    "]\n",
    "\n",
    "```{essay}```\n",
    "\"\"\"\n",
    "\n",
    "error_grammar_json = get_completion(prompt=prompt)\n",
    "print(error_grammar_json)"
   ]
  },
  {
   "attachments": {},
   "cell_type": "markdown",
   "metadata": {},
   "source": [
    "### 3. Make it check its own work\n",
    "\n",
    "Let's figure out if the output it gave satisfies all the previous conditions for the JSON output. We can create a prompt to validate if the string returned has the valid JSON required.\n"
   ]
  },
  {
   "cell_type": "code",
   "execution_count": 7,
   "metadata": {},
   "outputs": [
    {
     "name": "stdout",
     "output_type": "stream",
     "text": [
      "TRUE\n"
     ]
    }
   ],
   "source": [
    "prompt = f\"\"\"\n",
    "Please  check if the text delimited  by triple backticks \\\n",
    "has a valid jso structure, it must contain the nexts keys: \\\n",
    "id, sentence, type, correction. \\\n",
    "if it is a vlid json  with all  the keys required, \\\n",
    "simple writte 'TRUE', if it not contain a valid JSON \\\n",
    "or It  does not contain all the required keys simply write 'FALSE'. \n",
    "\n",
    "```{error_grammar_json}```\n",
    "\"\"\"\n",
    "json_check = get_completion(prompt=prompt)\n",
    "print(json_check)"
   ]
  },
  {
   "attachments": {},
   "cell_type": "markdown",
   "metadata": {},
   "source": [
    "### 4. Convert the output string into a validated and useful JSON to be used in an application.\n",
    "\n",
    "To make the output string usable and compatible with applications, we need to convert it into a valid JSON format. This involves ensuring proper syntax, structure, and data integrity.\n"
   ]
  },
  {
   "cell_type": "code",
   "execution_count": 8,
   "metadata": {},
   "outputs": [],
   "source": [
    "if type(error_grammar_json) is not dict:\n",
    "    grammar_json = eval(error_grammar_json)"
   ]
  },
  {
   "cell_type": "code",
   "execution_count": 9,
   "metadata": {},
   "outputs": [
    {
     "name": "stdout",
     "output_type": "stream",
     "text": [
      "{'errors': [{'id': 1, 'sentence': 'Open AI is an amasing advancment in technology, revolutionizing the way we interact with artificial intelligense.With its poweful algoritms, Open AI is capable of performing complex computations in a fraction of the time.', 'type': 'Spelling', 'correction': 'Amazing advancement in technology, revolutionizing the way we interact with artificial intelligence. With its powerful algorithms, Open AI is capable of performing complex computations in a fraction of the time.'}, {'id': 2, 'sentence': 'One of the main chalenges that Open AI faces is ensuring the securty of data and protectin it from cyber attaks.', 'type': 'Spelling', 'correction': 'One of the main challenges that Open AI faces is ensuring the security of data and protecting it from cyber attacks.'}, {'id': 3, 'sentence': 'Open AI has the potencial to trnsform various industries, such as healthcare, eductaion, and fance.', 'type': 'Spelling', 'correction': 'Open AI has the potential to transform various industries, such as healthcare, education, and finance.'}, {'id': 4, 'sentence': 'However, there are also ethichal conserns surronding the use of Open AI and its impact on privacy.', 'type': 'Spelling', 'correction': 'However, there are also ethical concerns surrounding the use of Open AI and its impact on privacy.'}, {'id': 5, 'sentence': 'Despite these challanges, Open AI has already made a significat impact in the field of natural langage processin.', 'type': 'Spelling', 'correction': 'Despite these challenges, Open AI has already made a significant impact in the field of natural language processing.'}, {'id': 6, 'sentence': \"Open AI's advanced machin lerning algoritms have the abilty to analyze vast amounts of data and derieve insghts from it.\", 'type': 'Spelling', 'correction': \"Open AI's advanced machine learning algorithms have the ability to analyze vast amounts of data and derive insights from it.\"}, {'id': 7, 'sentence': 'The potentiial applications of Open AI are vast, ranging from autonomos vehicles to smart home technology.', 'type': 'Spelling', 'correction': 'The potential applications of Open AI are vast, ranging from autonomous vehicles to smart home technology.'}, {'id': 8, 'sentence': 'As with any technolgy, it is crucial to adpt proper regulatins and guidlines to mitigte the risks assosiated with Open AI.', 'type': 'Spelling', 'correction': 'As with any technology, it is crucial to adopt proper regulations and guidelines to mitigate the risks associated with Open AI.'}, {'id': 9, 'sentence': 'In conclusin, Open AI is a game-changer that has the potntial to redefin how we live, work, and interact in the digtal age.', 'type': 'Spelling', 'correction': 'In conclusion, Open AI is a game-changer that has the potential to redefine how we live, work, and interact in the digital age.'}]}\n"
     ]
    }
   ],
   "source": [
    "print(grammar_json)"
   ]
  },
  {
   "attachments": {},
   "cell_type": "markdown",
   "metadata": {},
   "source": [
    "### 5. Few-shot Prompting\n",
    "\n",
    "Few-shot prompting is a technique in the field of artificial intelligence that allows models to learn and generate responses with just a few training instances, making them more flexible and adaptable in resource-constrained environments.\n",
    "\n",
    "How are we going to use it in this app?\n",
    "\n",
    "We can leverage this technique to create prompts for each error in the essay and provide suggestions to the user, mimicking the role of an English teacher reviewing the essay. By utilizing few-shot prompting, the app can offer more personalized and contextualized feedback for improving the writing quality.\n"
   ]
  },
  {
   "cell_type": "code",
   "execution_count": 10,
   "metadata": {},
   "outputs": [
    {
     "name": "stdout",
     "output_type": "stream",
     "text": [
      "You have a spelling error. Check the words \"adpt,\" \"regulatins,\" \"guidlines,\" and \"assosiated.\"\n"
     ]
    }
   ],
   "source": [
    "prompt = f\"\"\"\n",
    "Act like an english teacher checking a student´s essay \\\n",
    "the essay has several errors, however you won´t tell the students \\\n",
    "what are the errors. You will only giuve hints such as: \\\n",
    "\n",
    "\n",
    "<error>: As with any technolgy, it is crucial to adpt proper regulatins and guidlines to mitigte the risks assosiated with Open AI.\\\n",
    "<error type>: Spelling \\\n",
    "<correction>: As with any technology, it is crucial to adopt proper regulations and guidelines to mitigate the risks associated with Open AI. \\\n",
    "<hint>: You have a spelling error. Remember that adpt needs one more letter to be complete. \\\n",
    "\n",
    "\n",
    "<error>:In conclusin, Open AI is a game-changer that has the potntial to redefin how we live, work, and interact in the digtal age. \\\n",
    "<error type>: Spelling \\\n",
    "<correction>: In conclusion, Open AI is a game-changer that has the potential to redefine how we live, work, and interact in the digital age. \\\n",
    "<hint>: You have a spelling error. Remember that adpt needs one more letter to be complete. \\\n",
    "\n",
    "<error>: {grammar_json[\"errors\"][7][\"sentence\"]}\n",
    "<error type>: {grammar_json[\"errors\"][7][\"type\"]}\n",
    "<correction>:  {grammar_json[\"errors\"][7][\"correction\"]}\n",
    "<hint>: \n",
    "\"\"\"\n",
    "response  = get_completion(prompt=prompt)\n",
    "print(response)\n"
   ]
  },
  {
   "attachments": {},
   "cell_type": "markdown",
   "metadata": {},
   "source": [
    "### 6. Gradio / Streamlit\n",
    "\n",
    "What is Gradio?\n",
    "\n",
    "Gradio is one of the best ways to share your machine learning model, API, or data science workflow with others by creating an interactive app that allows users or colleagues to try out the demo in their browsers. It is a Python library that enables you to quickly build demos and easily share them.\n",
    "\n",
    "With Gradio, you can showcase your models and their functionality with just a few lines of code, making it an efficient and user-friendly tool for demonstrating and sharing your work."
   ]
  },
  {
   "attachments": {},
   "cell_type": "markdown",
   "metadata": {},
   "source": [
    "### 7. Let's combine all the previous steps into a Python file to create an essay grammar checker app."
   ]
  },
  {
   "cell_type": "code",
   "execution_count": 11,
   "metadata": {},
   "outputs": [
    {
     "name": "stderr",
     "output_type": "stream",
     "text": [
      "c:\\Users\\javie\\Documents\\generative-ai\\venv\\Lib\\site-packages\\tqdm\\auto.py:21: TqdmWarning: IProgress not found. Please update jupyter and ipywidgets. See https://ipywidgets.readthedocs.io/en/stable/user_install.html\n",
      "  from .autonotebook import tqdm as notebook_tqdm\n"
     ]
    }
   ],
   "source": [
    "import gradio as gr\n",
    "\n",
    "def grammar_check(essay):\n",
    "    json_prompt = f\"\"\"\n",
    "Perform the  following actions on the text delimited by triple backticks \\\n",
    "1. Check if text has any gramatical errors.\n",
    "2. If there are errors, get the sentence where the errors are. \\\n",
    "3. Using the following categories, get the type of the error: \\\n",
    "    - Capitalization \\\n",
    "    - Puntuation \\\n",
    "    - Spelling \\\n",
    "    - Word Order \\\n",
    "    - Verbe Tense \\\n",
    "    - Word choice \\\n",
    "    - Sentence Structured \\\n",
    "    - Sentence Fragment \\\n",
    "    - Run-on sentence \n",
    "4. Create a hit  of what the error migth be, for the students \\\n",
    "to correct the error  themselves such as \\\n",
    "\n",
    "<error>: As with any technolgy, it is crucial to adpt proper regulatins and guidlines to mitigte the risks assosiated with Open AI.\\\n",
    "<error type>: Spelling \\\n",
    "<correction>: As with any technology, it is crucial to adopt proper regulations and guidelines to mitigate the risks associated with Open AI. \\\n",
    "<hint>: You have a spelling error. Remember that adpt needs one more letter to be complete. \\\n",
    "\n",
    "\n",
    "<error>:In conclusin, Open AI is a game-changer that has the potntial to redefin how we live, work, and interact in the digtal age. \\\n",
    "<error type>: Spelling \\\n",
    "<correction>: In conclusion, Open AI is a game-changer that has the potential to redefine how we live, work, and interact in the digital age. \\\n",
    "<hint>: You have a spelling error. Remember that adpt needs one more letter to be complete. \\\n",
    "\n",
    "5. Translate the hint into spanish \\\n",
    "\n",
    "After folowing those steps, teh only output you should provide is a JSON \\\n",
    "with the folowing format: \\\n",
    "\n",
    "\n",
    "\"errors\": [\n",
    "\"id\": \"Error number count. Integer\",\n",
    "\"sentence\": \"the sentence with the error\",\n",
    "\"type\": \"Error type like Spelling, Punctuation, Spelling, Word order, Capitalization, etc\",\n",
    "\"hint\": \"The hint for the student to correct the error.\", \\\n",
    "\"translation\": \"the hint translation to correct the error.\", \\\n",
    "\"correction\": \"The correected sentence\"\n",
    "]\n",
    "```{essay}```\n",
    "\"\"\"\n",
    "\n",
    "    created_dict = get_completion(prompt=json_prompt)\n",
    "\n",
    "    check_prompt = f\"\"\"\n",
    "    Please check if the  text delimited by triple backticks \\\n",
    "    has an a valid jsons structure. It must cointain the keys: \\\n",
    "    id, sentence, type, hint, translation, correction. \\\n",
    "    If it is a valid json with all  the keys required, \\\n",
    "    simply write 'TRUE'. if it does not contain a valid json \\\n",
    "    or it does not contains all the  required keys, \\\n",
    "    simply write 'FALSE'.\n",
    "\n",
    "    ```{created_dict}```\n",
    "    \"\"\"\n",
    "\n",
    "    json_check = get_completion(prompt=check_prompt)\n",
    "\n",
    "    if json_check:\n",
    "        return  created_dict\n",
    "    else:\n",
    "        return \"{error: 'Invalid json'}\"\n"
   ]
  },
  {
   "cell_type": "code",
   "execution_count": 13,
   "metadata": {},
   "outputs": [
    {
     "name": "stderr",
     "output_type": "stream",
     "text": [
      "c:\\Users\\javie\\Documents\\generative-ai\\venv\\Lib\\site-packages\\gradio\\inputs.py:27: UserWarning: Usage of gradio.inputs is deprecated, and will not be supported in the future, please import your component from gradio.components\n",
      "  warnings.warn(\n",
      "c:\\Users\\javie\\Documents\\generative-ai\\venv\\Lib\\site-packages\\gradio\\inputs.py:30: UserWarning: `optional` parameter is deprecated, and it has no effect\n",
      "  super().__init__(\n",
      "c:\\Users\\javie\\Documents\\generative-ai\\venv\\Lib\\site-packages\\gradio\\inputs.py:30: UserWarning: `numeric` parameter is deprecated, and it has no effect\n",
      "  super().__init__(\n",
      "c:\\Users\\javie\\Documents\\generative-ai\\venv\\Lib\\site-packages\\gradio\\outputs.py:22: UserWarning: Usage of gradio.outputs is deprecated, and will not be supported in the future, please import your components from gradio.components\n",
      "  warnings.warn(\n"
     ]
    },
    {
     "name": "stdout",
     "output_type": "stream",
     "text": [
      "Running on local URL:  http://127.0.0.1:7861\n",
      "\n",
      "To create a public link, set `share=True` in `launch()`.\n"
     ]
    },
    {
     "data": {
      "text/html": [
       "<div><iframe src=\"http://127.0.0.1:7861/\" width=\"100%\" height=\"500\" allow=\"autoplay; camera; microphone; clipboard-read; clipboard-write;\" frameborder=\"0\" allowfullscreen></iframe></div>"
      ],
      "text/plain": [
       "<IPython.core.display.HTML object>"
      ]
     },
     "metadata": {},
     "output_type": "display_data"
    },
    {
     "data": {
      "text/plain": []
     },
     "execution_count": 13,
     "metadata": {},
     "output_type": "execute_result"
    }
   ],
   "source": [
    "import gradio as gr\n",
    "\n",
    "gr.Interface(\n",
    "    fn=grammar_check,\n",
    "    inputs=gr.inputs.Textbox(lines=15, label=\"Essay\"),\n",
    "    outputs=gr.outputs.Textbox(label=\"JSON\"),\n",
    "    title=\"Grammar Checker ✅📄\",\n",
    ").launch()"
   ]
  }
 ],
 "metadata": {
  "kernelspec": {
   "display_name": "venv",
   "language": "python",
   "name": "python3"
  },
  "language_info": {
   "codemirror_mode": {
    "name": "ipython",
    "version": 3
   },
   "file_extension": ".py",
   "mimetype": "text/x-python",
   "name": "python",
   "nbconvert_exporter": "python",
   "pygments_lexer": "ipython3",
   "version": "3.11.3"
  },
  "orig_nbformat": 4
 },
 "nbformat": 4,
 "nbformat_minor": 2
}
